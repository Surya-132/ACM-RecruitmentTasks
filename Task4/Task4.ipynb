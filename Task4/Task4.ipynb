{
  "nbformat": 4,
  "nbformat_minor": 0,
  "metadata": {
    "colab": {
      "provenance": []
    },
    "kernelspec": {
      "name": "python3",
      "display_name": "Python 3"
    },
    "language_info": {
      "name": "python"
    }
  },
  "cells": [
    {
      "cell_type": "code",
      "execution_count": 2,
      "metadata": {
        "colab": {
          "base_uri": "https://localhost:8080/"
        },
        "id": "HUoho_S5We3M",
        "outputId": "3539bf02-f06d-4ace-bb50-91ae4830e708"
      },
      "outputs": [
        {
          "output_type": "stream",
          "name": "stdout",
          "text": [
            "Gradient of tensor_a: tensor([[1.6066, 1.1215, 2.3172],\n",
            "        [1.6066, 1.1215, 2.3172],\n",
            "        [1.6066, 1.1215, 2.3172]])\n",
            "Broadcasted Sum: tensor([[0.6847, 0.6310, 1.2099],\n",
            "        [0.3374, 0.2837, 0.8625],\n",
            "        [0.5353, 0.4816, 1.0604]])\n",
            "Broadcasted Product: tensor([[0.5281, 0.2284, 1.0394],\n",
            "        [0.2571, 0.1059, 0.1109],\n",
            "        [0.5234, 0.3336, 0.5019]])\n",
            "Reshaped Tensor: tensor([[0.5569, 0.2291, 0.7693, 0.8593, 0.1765, 0.5050, 0.5887, 0.7225],\n",
            "        [0.6826, 0.6946, 0.3972, 0.0263, 0.1988, 0.5993, 0.9582, 0.4532],\n",
            "        [0.5460, 0.1225, 0.5267, 0.7138, 0.9587, 0.1645, 0.0780, 0.5549]])\n",
            "Sliced Tensor: tensor([[0.5569, 0.2291],\n",
            "        [0.6826, 0.6946],\n",
            "        [0.5460, 0.1225]])\n"
          ]
        }
      ],
      "source": [
        "import torch\n",
        "\n",
        "# Matrix Multiplication and Autograd\n",
        "tensor_a=torch.rand(3,3,requires_grad=True)\n",
        "tensor_b=torch.rand(3,3)\n",
        "result=torch.matmul(tensor_a,tensor_b)\n",
        "result.backward(torch.ones_like(result))\n",
        "\n",
        "print(\"Gradient of tensor_a:\",tensor_a.grad)\n",
        "\n",
        "# Explanation: Autograd computes gradients by tracking operations on tensors with requires_grad=True.\n",
        "\n",
        "# Broadcasting\n",
        "tensor_c=torch.rand(3,1)\n",
        "tensor_d=torch.rand(1,3)\n",
        "broadcasted_sum=tensor_c+tensor_d\n",
        "broadcasted_product=broadcasted_sum*torch.rand(3,3)\n",
        "\n",
        "print(\"Broadcasted Sum:\",broadcasted_sum)\n",
        "print(\"Broadcasted Product:\",broadcasted_product)\n",
        "\n",
        "# Explanation: PyTorch automatically expands tensors with one dimensions to match the shape of the operation.\n",
        "\n",
        "# Reshaping and Slicing\n",
        "tensor_e = torch.rand(6,4)\n",
        "reshaped_tensor = tensor_e.view(3,8)\n",
        "sliced_tensor = reshaped_tensor[:,:2]\n",
        "\n",
        "print(\"Reshaped Tensor:\",reshaped_tensor)\n",
        "print(\"Sliced Tensor:\",sliced_tensor)\n",
        "\n",
        "# Explanation: Reshaping changes the shape without changing data and slicing takes out specific parts of the tensor.\n"
      ]
    }
  ]
}